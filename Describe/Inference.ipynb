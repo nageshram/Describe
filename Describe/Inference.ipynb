{
 "cells": [
  {
   "cell_type": "markdown",
   "metadata": {},
   "source": [
    "# Inference\n",
    "\n",
    "In this notebook, we will use the trained model to generate captions for images in the test dataset.\n"
   ]
  },
  {
   "cell_type": "code",
   "execution_count": 1,
   "metadata": {
    "metadata": {}
   },
   "outputs": [
    {
     "ename": "ModuleNotFoundError",
     "evalue": "No module named 'torchvision'",
     "output_type": "error",
     "traceback": [
      "\u001b[1;31m---------------------------------------------------------------------------\u001b[0m",
      "\u001b[1;31mModuleNotFoundError\u001b[0m                       Traceback (most recent call last)",
      "Cell \u001b[1;32mIn[1], line 3\u001b[0m\n\u001b[0;32m      1\u001b[0m \u001b[38;5;28;01mfrom\u001b[39;00m \u001b[38;5;21;01mPIL\u001b[39;00m \u001b[38;5;28;01mimport\u001b[39;00m Image\n\u001b[0;32m      2\u001b[0m \u001b[38;5;28;01mimport\u001b[39;00m \u001b[38;5;21;01mtorch\u001b[39;00m\n\u001b[1;32m----> 3\u001b[0m \u001b[38;5;28;01mfrom\u001b[39;00m \u001b[38;5;21;01mtorchvision\u001b[39;00m \u001b[38;5;28;01mimport\u001b[39;00m transforms\n\u001b[0;32m      4\u001b[0m \u001b[38;5;28;01mfrom\u001b[39;00m \u001b[38;5;21;01mmodel\u001b[39;00m \u001b[38;5;28;01mimport\u001b[39;00m EncoderCNN, DecoderRNN\n\u001b[0;32m      5\u001b[0m \u001b[38;5;28;01mfrom\u001b[39;00m \u001b[38;5;21;01mnlp_utils\u001b[39;00m \u001b[38;5;28;01mimport\u001b[39;00m clean_sentence\n",
      "\u001b[1;31mModuleNotFoundError\u001b[0m: No module named 'torchvision'"
     ]
    }
   ],
   "source": [
    "from PIL import Image\n",
    "import torch\n",
    "from torchvision import transforms\n",
    "from model import EncoderCNN, DecoderRNN\n",
    "from nlp_utils import clean_sentence\n",
    "import os\n",
    "import pickle\n",
    "import matplotlib.pyplot as plt\n",
    "\n",
    "# Define the device\n",
    "device = torch.device(\"cuda\" if torch.cuda.is_available() else \"cpu\")\n",
    "\n",
    "# Set the necessary parameters\n",
    "embed_size = 256  # Assuming it's the same as during training\n",
    "hidden_size = 512  # Assuming it's the same as during training\n",
    "vocab_file = \"vocab.pkl\"  # Assuming the name of the vocabulary file\n",
    "\n",
    "# Load the vocabulary\n",
    "with open(os.path.join(\"./data\", vocab_file), \"rb\") as f:\n",
    "    vocab = pickle.load(f)\n",
    "\n",
    "vocab_size = len(vocab)\n",
    "\n",
    "# Initialize the encoder and decoder.\n",
    "encoder = EncoderCNN(embed_size)\n",
    "decoder = DecoderRNN(embed_size, hidden_size, vocab_size)\n",
    "\n",
    "# Moving models to the appropriate device\n",
    "encoder.to(device)\n",
    "decoder.to(device)\n",
    "\n",
    "# Load the trained weights\n",
    "encoder_file = \"encoder-3.pkl\"  # Update with the appropriate file name\n",
    "decoder_file = \"decoder-3.pkl\"  # Update with the appropriate file name\n",
    "\n",
    "encoder.load_state_dict(torch.load(os.path.join(\"./models\", encoder_file)))\n",
    "decoder.load_state_dict(torch.load(os.path.join(\"./models\", decoder_file)))\n",
    "\n",
    "# Set models to evaluation mode\n",
    "encoder.eval()\n",
    "decoder.eval()\n",
    "\n",
    "# Load the test image\n",
    "test_image_path = \"test_image.jpg\"  # Replace with the path to your test image\n",
    "test_image = Image.open(test_image_path).convert(\"RGB\")\n",
    "\n",
    "# Apply transformations to the test image\n",
    "transform_test = transforms.Compose([\n",
    "    transforms.Resize(224),\n",
    "    transforms.ToTensor(),\n",
    "    transforms.Normalize((0.485, 0.456, 0.406), (0.229, 0.224, 0.225)),\n",
    "])\n",
    "\n",
    "# Preprocess the test image\n",
    "test_image = transform_test(test_image).unsqueeze(0)  # Add batch dimension\n",
    "\n",
    "# Move the preprocessed image to the appropriate device\n",
    "test_image = test_image.to(device)\n",
    "\n",
    "# Pass the test image through the encoder\n",
    "with torch.no_grad():\n",
    "    features = encoder(test_image).unsqueeze(1)\n",
    "\n",
    "# Generate captions with the decoder\n",
    "with torch.no_grad():\n",
    "    output = decoder.sample(features)\n",
    "\n",
    "# Convert the output into a clean sentence\n",
    "caption = clean_sentence(output, vocab.idx2word)\n",
    "\n",
    "# Display the test image with the generated caption\n",
    "plt.imshow(Image.open(test_image_path))\n",
    "plt.axis('off')\n",
    "plt.title('Generated Caption: ' + caption)\n",
    "plt.show()\n"
   ]
  }
 ],
 "metadata": {
  "anaconda-cloud": {},
  "kernelspec": {
   "display_name": "Python 3 (ipykernel)",
   "language": "python",
   "name": "python3"
  },
  "language_info": {
   "codemirror_mode": {
    "name": "ipython",
    "version": 3
   },
   "file_extension": ".py",
   "mimetype": "text/x-python",
   "name": "python",
   "nbconvert_exporter": "python",
   "pygments_lexer": "ipython3",
   "version": "3.12.4"
  },
  "varInspector": {
   "cols": {
    "lenName": 16,
    "lenType": 16,
    "lenVar": 40
   },
   "kernels_config": {
    "python": {
     "delete_cmd_postfix": "",
     "delete_cmd_prefix": "del ",
     "library": "var_list.py",
     "varRefreshCmd": "print(var_dic_list())"
    },
    "r": {
     "delete_cmd_postfix": ") ",
     "delete_cmd_prefix": "rm(",
     "library": "var_list.r",
     "varRefreshCmd": "cat(var_dic_list()) "
    }
   },
   "types_to_exclude": [
    "module",
    "function",
    "builtin_function_or_method",
    "instance",
    "_Feature"
   ],
   "window_display": false
  }
 },
 "nbformat": 4,
 "nbformat_minor": 4
}
